{
 "cells": [
  {
   "cell_type": "markdown",
   "metadata": {},
   "source": [
    "Attempt to bring semantic meaning to Bag of Words by allowing more values than just 1s and 0s.\n",
    "\n",
    "*Larger values denote higher importance within a sentence*"
   ]
  },
  {
   "cell_type": "code",
   "execution_count": 1,
   "metadata": {},
   "outputs": [],
   "source": [
    "import nltk\n",
    "\n",
    "text = \"\"\"Good teacher, I took this as a second block class on accident. Lots of reading in the class, not super necessary for the lectures. \n",
    "            But a fun teacher who's excited to share English with students, normal amount of homework assignments and a small 5 page paper due at finals. 8/10\"\"\""
   ]
  },
  {
   "cell_type": "code",
   "execution_count": 2,
   "metadata": {},
   "outputs": [
    {
     "data": {
      "text/plain": [
       "['good teacher took second block class accident',\n",
       " 'lot reading class super necessary lecture',\n",
       " 'fun teacher excited share english student normal amount homework assignment small page paper due final',\n",
       " '']"
      ]
     },
     "execution_count": 2,
     "metadata": {},
     "output_type": "execute_result"
    }
   ],
   "source": [
    "# Cleaning text\n",
    "\n",
    "import re\n",
    "from nltk.corpus import stopwords\n",
    "#from nltk.stem.porter import PorterStemmer\n",
    "from nltk.stem import WordNetLemmatizer\n",
    "\n",
    "wordnet = WordNetLemmatizer()\n",
    "sentences = nltk.sent_tokenize(text)\n",
    "corpus = []\n",
    "for i in range(len(sentences)):\n",
    "    review = re.sub('[^a-zA-Z]', ' ', sentences[i])         # remove every non-letter character\n",
    "    review = review.lower()                                 # make entirely lowercase\n",
    "    review = review.split()\n",
    "\n",
    "    review = [wordnet.lemmatize(word) for word in review if not word in set(stopwords.words(\"english\"))]        # remove stopwords\n",
    "    review = \" \".join(review)\n",
    "    corpus.append(review)\n",
    "\n",
    "corpus"
   ]
  },
  {
   "cell_type": "code",
   "execution_count": 3,
   "metadata": {},
   "outputs": [
    {
     "data": {
      "text/plain": [
       "array([[0.40021825, 0.        , 0.        , 0.40021825, 0.31553666,\n",
       "        0.        , 0.        , 0.        , 0.        , 0.        ,\n",
       "        0.40021825, 0.        , 0.        , 0.        , 0.        ,\n",
       "        0.        , 0.        , 0.        , 0.        , 0.40021825,\n",
       "        0.        , 0.        , 0.        , 0.        , 0.31553666,\n",
       "        0.40021825],\n",
       "       [0.        , 0.        , 0.        , 0.        , 0.3325242 ,\n",
       "        0.        , 0.        , 0.        , 0.        , 0.        ,\n",
       "        0.        , 0.        , 0.42176478, 0.42176478, 0.42176478,\n",
       "        0.        , 0.        , 0.        , 0.42176478, 0.        ,\n",
       "        0.        , 0.        , 0.        , 0.42176478, 0.        ,\n",
       "        0.        ],\n",
       "       [0.        , 0.26151865, 0.26151865, 0.        , 0.        ,\n",
       "        0.26151865, 0.26151865, 0.26151865, 0.26151865, 0.26151865,\n",
       "        0.        , 0.26151865, 0.        , 0.        , 0.        ,\n",
       "        0.26151865, 0.26151865, 0.26151865, 0.        , 0.        ,\n",
       "        0.26151865, 0.26151865, 0.26151865, 0.        , 0.2061843 ,\n",
       "        0.        ],\n",
       "       [0.        , 0.        , 0.        , 0.        , 0.        ,\n",
       "        0.        , 0.        , 0.        , 0.        , 0.        ,\n",
       "        0.        , 0.        , 0.        , 0.        , 0.        ,\n",
       "        0.        , 0.        , 0.        , 0.        , 0.        ,\n",
       "        0.        , 0.        , 0.        , 0.        , 0.        ,\n",
       "        0.        ]])"
      ]
     },
     "execution_count": 3,
     "metadata": {},
     "output_type": "execute_result"
    }
   ],
   "source": [
    "# Creating TF-IDF model\n",
    "from sklearn.feature_extraction.text import TfidfVectorizer\n",
    "cv = TfidfVectorizer()\n",
    "X = cv.fit_transform(corpus).toarray()\n",
    "X"
   ]
  }
 ],
 "metadata": {
  "kernelspec": {
   "display_name": "Python 3.9.13 64-bit (windows store)",
   "language": "python",
   "name": "python3"
  },
  "language_info": {
   "codemirror_mode": {
    "name": "ipython",
    "version": 3
   },
   "file_extension": ".py",
   "mimetype": "text/x-python",
   "name": "python",
   "nbconvert_exporter": "python",
   "pygments_lexer": "ipython3",
   "version": "3.9.13"
  },
  "orig_nbformat": 4,
  "vscode": {
   "interpreter": {
    "hash": "ed8ce2715666cca47edfe3dc40f16f58fc193b5a7b06958e2ae06c97afdf9990"
   }
  }
 },
 "nbformat": 4,
 "nbformat_minor": 2
}
