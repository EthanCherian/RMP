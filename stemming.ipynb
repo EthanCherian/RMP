{
 "cells": [
  {
   "cell_type": "code",
   "execution_count": 1,
   "metadata": {},
   "outputs": [],
   "source": [
    "#%pip install nltk\n",
    "import nltk\n",
    "#nltk.download('punkt')\n",
    "from nltk.stem import PorterStemmer\n",
    "#nltk.download('stopwords')\n",
    "from nltk.corpus import stopwords"
   ]
  },
  {
   "cell_type": "code",
   "execution_count": 2,
   "metadata": {},
   "outputs": [
    {
     "data": {
      "text/plain": [
       "['Good teacher, I took this as a second block class on accident.',\n",
       " 'Lots of reading in the class, not super necessary for the lectures.',\n",
       " \"But a fun teacher who's excited to share English with students, normal amount of homework assignments and a small 5 page paper due at finals.\",\n",
       " '8/10']"
      ]
     },
     "execution_count": 2,
     "metadata": {},
     "output_type": "execute_result"
    }
   ],
   "source": [
    "review = \"\"\"Good teacher, I took this as a second block class on accident. Lots of reading in the class, not super necessary for the lectures. \n",
    "            But a fun teacher who's excited to share English with students, normal amount of homework assignments and a small 5 page paper due at finals. 8/10\"\"\"\n",
    "# random review from input data chosen\n",
    "\n",
    "sentences = nltk.sent_tokenize(review)          # break review into component sentences\n",
    "stemmer = PorterStemmer()                       # set up stemming object\n",
    "\n",
    "sentences"
   ]
  },
  {
   "cell_type": "code",
   "execution_count": 3,
   "metadata": {},
   "outputs": [
    {
     "data": {
      "text/plain": [
       "['good teacher , i took second block class accid .',\n",
       " 'lot read class , super necessari lectur .',\n",
       " \"but fun teacher 's excit share english student , normal amount homework assign small 5 page paper due final .\",\n",
       " '8/10']"
      ]
     },
     "execution_count": 3,
     "metadata": {},
     "output_type": "execute_result"
    }
   ],
   "source": [
    "for i in range(len(sentences)):\n",
    "    words = nltk.word_tokenize(sentences[i])\n",
    "    words = [stemmer.stem(word) for word in words if word not in set(stopwords.words('english'))]           # get rid of stopwords\n",
    "    sentences[i] = \" \".join(words)\n",
    "\n",
    "sentences\n",
    "\n",
    "# IMPORTANT NOTE: this stemming may drop words like 'not' which will be important for sentiment analysis, may want to figure out a way around this at some point"
   ]
  }
 ],
 "metadata": {
  "kernelspec": {
   "display_name": "Python 3.9.13 64-bit (windows store)",
   "language": "python",
   "name": "python3"
  },
  "language_info": {
   "codemirror_mode": {
    "name": "ipython",
    "version": 3
   },
   "file_extension": ".py",
   "mimetype": "text/x-python",
   "name": "python",
   "nbconvert_exporter": "python",
   "pygments_lexer": "ipython3",
   "version": "3.9.13"
  },
  "orig_nbformat": 4,
  "vscode": {
   "interpreter": {
    "hash": "ed8ce2715666cca47edfe3dc40f16f58fc193b5a7b06958e2ae06c97afdf9990"
   }
  }
 },
 "nbformat": 4,
 "nbformat_minor": 2
}
