{
 "cells": [
  {
   "cell_type": "markdown",
   "metadata": {},
   "source": [
    "Both BoW and TF-IDF have a very serious chance of overfitting, use Word2Vec to overcome.\n",
    "\n",
    "Word2Vec represents each word as a vector of dimension 32 or greater, rather than a single number. This preserves semantic information and relation between words.\n",
    "Interestingly, allows operations such as `King - Man + Woman` and knows to yield result `Queen`, as it justs computes using vectors."
   ]
  },
  {
   "cell_type": "code",
   "execution_count": 1,
   "metadata": {},
   "outputs": [],
   "source": [
    "import nltk\n",
    "#%pip install gensim\n",
    "from gensim.models import Word2Vec\n",
    "from nltk.corpus import stopwords\n",
    "import re\n",
    "\n",
    "review = \"\"\"Good teacher, I took this as a second block class on accident. Lots of reading in the class, not super necessary for the lectures. \n",
    "            But a fun teacher who's excited to share English with students, normal amount of homework assignments and a small 5 page paper due at finals. 8/10\"\"\""
   ]
  },
  {
   "cell_type": "code",
   "execution_count": 2,
   "metadata": {},
   "outputs": [
    {
     "data": {
      "text/plain": [
       "[['good', 'teacher', ',', 'took', 'second', 'block', 'class', 'accident', '.'],\n",
       " ['lots', 'reading', 'class', ',', 'super', 'necessary', 'lectures', '.'],\n",
       " ['fun',\n",
       "  'teacher',\n",
       "  \"'s\",\n",
       "  'excited',\n",
       "  'share',\n",
       "  'english',\n",
       "  'students',\n",
       "  ',',\n",
       "  'normal',\n",
       "  'amount',\n",
       "  'homework',\n",
       "  'assignments',\n",
       "  'small',\n",
       "  'page',\n",
       "  'paper',\n",
       "  'due',\n",
       "  'finals',\n",
       "  '.'],\n",
       " ['/']]"
      ]
     },
     "execution_count": 2,
     "metadata": {},
     "output_type": "execute_result"
    }
   ],
   "source": [
    "# Preprocessing text\n",
    "\n",
    "text = re.sub(r'\\[[0-9]*\\]', ' ', review)       # remove special characters and numbers\n",
    "text = re.sub(r'\\s+', ' ', text)                # remove spaces\n",
    "text = text.lower()                             # make lowercase to avoid repeat entries\n",
    "text = re.sub(r'\\d', ' ', text)\n",
    "text = re.sub(r'\\s+', ' ', text)\n",
    "\n",
    "sentences = nltk.sent_tokenize(text)\n",
    "sentences = [nltk.word_tokenize(sentence) for sentence in sentences]\n",
    "for i in range(len(sentences)):\n",
    "    sentences[i] = [word for word in sentences[i] if word not in stopwords.words(\"english\")]\n",
    "\n",
    "sentences"
   ]
  },
  {
   "cell_type": "code",
   "execution_count": 3,
   "metadata": {},
   "outputs": [
    {
     "data": {
      "text/plain": [
       "[('lectures', 0.17826791107654572),\n",
       " ('finals', 0.13126598298549652),\n",
       " ('block', 0.07497556507587433),\n",
       " ('.', 0.0679679811000824),\n",
       " ('assignments', 0.04814743623137474),\n",
       " ('good', 0.04732733219861984),\n",
       " ('took', 0.04157735034823418),\n",
       " ('reading', 0.04130808264017105),\n",
       " ('excited', 0.04115622118115425),\n",
       " ('amount', 0.04080428555607796)]"
      ]
     },
     "execution_count": 3,
     "metadata": {},
     "output_type": "execute_result"
    }
   ],
   "source": [
    "# Training Word2Vec model\n",
    "model = Word2Vec(sentences, min_count=1)            # min_count represents minimum number of occurences of a particular word that must be present to vectorize it\n",
    "\n",
    "#  words = model.wv.vocab           vocab attribute was depracated, replacements don't seem as helpful lol\n",
    "words = model.wv.key_to_index\n",
    "#words\n",
    "\n",
    "vector = model.wv['second']        # finding word vectors\n",
    "#vector\n",
    "\n",
    "attr = model.wv.get_vecattr(\"teacher\", \"count\")     # get attribute of vector\n",
    "#attr\n",
    "\n",
    "similar = model.wv.most_similar(\"class\")      # most similar words\n",
    "similar"
   ]
  }
 ],
 "metadata": {
  "kernelspec": {
   "display_name": "Python 3.9.13 64-bit (windows store)",
   "language": "python",
   "name": "python3"
  },
  "language_info": {
   "codemirror_mode": {
    "name": "ipython",
    "version": 3
   },
   "file_extension": ".py",
   "mimetype": "text/x-python",
   "name": "python",
   "nbconvert_exporter": "python",
   "pygments_lexer": "ipython3",
   "version": "3.9.13"
  },
  "orig_nbformat": 4,
  "vscode": {
   "interpreter": {
    "hash": "ed8ce2715666cca47edfe3dc40f16f58fc193b5a7b06958e2ae06c97afdf9990"
   }
  }
 },
 "nbformat": 4,
 "nbformat_minor": 2
}
