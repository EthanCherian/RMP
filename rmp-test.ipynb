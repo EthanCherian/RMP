{
 "cells": [
  {
   "cell_type": "markdown",
   "metadata": {},
   "source": [
    "Testing RMP Analysis\n",
    "\n",
    "Starting with simple sentiment analysis and hoping it goes somewhere :)"
   ]
  },
  {
   "cell_type": "code",
   "execution_count": null,
   "metadata": {},
   "outputs": [],
   "source": [
    "import pandas as pd\n",
    "import re\n",
    "\n",
    "import nltk\n",
    "from nltk.stem import WordNetLemmatizer\n",
    "from nltk.corpus import stopwords\n",
    "\n",
    "lemm = WordNetLemmatizer()\n",
    "reviews = pd.read_csv(\"RMP-data.csv\")"
   ]
  },
  {
   "cell_type": "code",
   "execution_count": null,
   "metadata": {},
   "outputs": [],
   "source": [
    "# keep only necessary columns\n",
    "reviews = reviews.loc[:, [\"professor_name\", \"student_star\", \"comments\"]]\n",
    "\n",
    "reviews.comments.fillna(\"Empty\", inplace=True)\n",
    "reviews.student_star.fillna(-1, inplace=True)           # to denote it was empty without causing a runtime error\n",
    "\n",
    "reviews[\"sentiment\"] = 1            # create new 'sentiment' column and set it to all 1s (denoting positive sentiment)\n",
    "\n",
    "# FIXME: need to find a way to remove backslashes from comments effectively\n",
    "reviews.comments.replace(\"\\\\\", \"\", inplace=True)        # this will search for comments whose value is \"\\\\\", but I want to search within a comment for a \"\\\\\" soooo...\n",
    "\n",
    "reviews.head()\n",
    "\n",
    "#empty_comments = reviews[pd.isnull(reviews.comments)]       # both frames have 0 rows, so all NaNs were successfully terminated\n",
    "#empty_stars = reviews[pd.isnull(reviews.student_star)]"
   ]
  },
  {
   "cell_type": "code",
   "execution_count": null,
   "metadata": {},
   "outputs": [],
   "source": [
    "# Appropriately fill sentiment column using student_star as a basis\n",
    "reviews[\"sentiment\"] = reviews[\"student_star\"].apply(lambda x: 1 if x > 2.5 else 0)\n",
    "# if student rated more than 2.5 stars, take their review as positive; otherwise, negative\n",
    "reviews.head()"
   ]
  },
  {
   "cell_type": "code",
   "execution_count": null,
   "metadata": {},
   "outputs": [],
   "source": [
    "# Ensure that negative stopwords are kept (important for sentiment analysis)\n",
    "eng_stopwords = stopwords.words(\"english\")\n",
    "# matter of fact, may end up being better to not remove stopwords at all to ensure no loss of depth in model, but this'll do for now\n",
    "eng_stopwords.remove(\"no\")\n",
    "eng_stopwords.remove(\"not\")\n",
    "eng_stopwords.remove(\"nor\")\n",
    "eng_stopwords.remove(\"couldn't\")\n",
    "eng_stopwords.remove(\"doesn't\")\n",
    "eng_stopwords.remove(\"haven't\")\n",
    "eng_stopwords.remove(\"hadn't\")\n",
    "eng_stopwords.remove(\"weren't\")\n",
    "eng_stopwords.remove(\"won't\")\n",
    "eng_stopwords.remove(\"wouldn't\")"
   ]
  },
  {
   "cell_type": "code",
   "execution_count": null,
   "metadata": {},
   "outputs": [],
   "source": [
    "# Basic preprocessing\n",
    "corpus = []\n",
    "\n",
    "\"\"\"\n",
    "for i in range(0, reviews.shape[0]):\n",
    "    comm = reviews.iloc[i].comments         # isolate student comment from row\n",
    "    sentences = nltk.sent_tokenize(comm)    # break into sentences\n",
    "    sentences = [nltk.word_tokenize(sentence) for sentence in sentences]        # break into words\n",
    "    for j in range(0, len(sentences)):\n",
    "        sentences[j] = [lemm.lemmatize(word) for word in sentences[j] if word not in eng_stopwords]         # lemmatize each non-stopword\n",
    "    corpus.append(sentences)\n",
    "\"\"\"\n",
    "\n",
    "for i in range(len(reviews.index)):\n",
    "    review = re.sub('[^a-zA-Z]', ' ', reviews[\"comments\"][i])       # keep only alphabet characters\n",
    "    review = review.lower()         # make lowercase\n",
    "    review = review.split()         # split into words\n",
    "    review = [lemm.lemmatize(word) for word in review if word not in eng_stopwords]         # lemmatize and remove stopwords\n",
    "    review = \" \".join(review)       # combine back\n",
    "    corpus.append(review)           # add to list of sentence"
   ]
  },
  {
   "cell_type": "code",
   "execution_count": null,
   "metadata": {},
   "outputs": [],
   "source": [
    "# Create Bag of Words model\n",
    "from sklearn.feature_extraction.text import CountVectorizer\n",
    "cv = CountVectorizer(max_features=2500)\n",
    "X = cv.fit_transform(corpus).toarray()\n",
    "y = pd.get_dummies(reviews)     # isolate sentiments\n",
    "y = y.loc[:, \"sentiment\"]"
   ]
  },
  {
   "cell_type": "code",
   "execution_count": null,
   "metadata": {},
   "outputs": [],
   "source": [
    "# Train-Test split\n",
    "from sklearn.model_selection import train_test_split\n",
    "X_train, X_test, y_train, y_test = train_test_split(X, y, test_size=0.2, random_state=0)"
   ]
  },
  {
   "cell_type": "code",
   "execution_count": null,
   "metadata": {},
   "outputs": [],
   "source": [
    "# Train model using Naive Bayes Classifier\n",
    "from sklearn.naive_bayes import MultinomialNB\n",
    "model = MultinomialNB().fit(X_train, y_train)\n",
    "y_pred = model.predict(X_test)"
   ]
  },
  {
   "cell_type": "code",
   "execution_count": null,
   "metadata": {},
   "outputs": [],
   "source": [
    "# Test accuracy of model\n",
    "from sklearn.metrics import confusion_matrix, accuracy_score\n",
    "\n",
    "conf_m = confusion_matrix(y_test, y_pred)\n",
    "\n",
    "acc_score = accuracy_score(y_test, y_pred)\n",
    "\n",
    "print(\"Accuracy Score: \" + str(acc_score))\n",
    "print(conf_m)"
   ]
  }
 ],
 "metadata": {
  "kernelspec": {
   "display_name": "Python 3.9.13 64-bit (windows store)",
   "language": "python",
   "name": "python3"
  },
  "language_info": {
   "codemirror_mode": {
    "name": "ipython",
    "version": 3
   },
   "file_extension": ".py",
   "mimetype": "text/x-python",
   "name": "python",
   "nbconvert_exporter": "python",
   "pygments_lexer": "ipython3",
   "version": "3.9.13"
  },
  "orig_nbformat": 4,
  "vscode": {
   "interpreter": {
    "hash": "ed8ce2715666cca47edfe3dc40f16f58fc193b5a7b06958e2ae06c97afdf9990"
   }
  }
 },
 "nbformat": 4,
 "nbformat_minor": 2
}
