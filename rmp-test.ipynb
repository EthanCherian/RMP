{
 "cells": [
  {
   "cell_type": "markdown",
   "metadata": {},
   "source": [
    "Testing RMP Analysis\n",
    "\n",
    "Starting with simple sentiment analysis and hoping it goes somewhere :)"
   ]
  },
  {
   "cell_type": "code",
   "execution_count": 1,
   "metadata": {},
   "outputs": [],
   "source": [
    "import pandas as pd\n",
    "import re\n",
    "\n",
    "import nltk\n",
    "from nltk.stem import WordNetLemmatizer\n",
    "from nltk.corpus import stopwords\n",
    "\n",
    "lemm = WordNetLemmatizer()\n",
    "reviews = pd.read_csv(\"RMP-data.csv\")"
   ]
  },
  {
   "cell_type": "code",
   "execution_count": 2,
   "metadata": {},
   "outputs": [
    {
     "data": {
      "text/html": [
       "<div>\n",
       "<style scoped>\n",
       "    .dataframe tbody tr th:only-of-type {\n",
       "        vertical-align: middle;\n",
       "    }\n",
       "\n",
       "    .dataframe tbody tr th {\n",
       "        vertical-align: top;\n",
       "    }\n",
       "\n",
       "    .dataframe thead th {\n",
       "        text-align: right;\n",
       "    }\n",
       "</style>\n",
       "<table border=\"1\" class=\"dataframe\">\n",
       "  <thead>\n",
       "    <tr style=\"text-align: right;\">\n",
       "      <th></th>\n",
       "      <th>professor_name</th>\n",
       "      <th>student_star</th>\n",
       "      <th>comments</th>\n",
       "      <th>sentiment</th>\n",
       "    </tr>\n",
       "  </thead>\n",
       "  <tbody>\n",
       "    <tr>\n",
       "      <th>0</th>\n",
       "      <td>Leslie  Looney</td>\n",
       "      <td>5.0</td>\n",
       "      <td>This class is hard, but its a two-in-one gen-e...</td>\n",
       "      <td>1</td>\n",
       "    </tr>\n",
       "    <tr>\n",
       "      <th>1</th>\n",
       "      <td>Leslie  Looney</td>\n",
       "      <td>5.0</td>\n",
       "      <td>Definitely going to choose Prof. Looney\\'s cla...</td>\n",
       "      <td>1</td>\n",
       "    </tr>\n",
       "    <tr>\n",
       "      <th>2</th>\n",
       "      <td>Leslie  Looney</td>\n",
       "      <td>4.0</td>\n",
       "      <td>I overall enjoyed this class because the assig...</td>\n",
       "      <td>1</td>\n",
       "    </tr>\n",
       "    <tr>\n",
       "      <th>3</th>\n",
       "      <td>Leslie  Looney</td>\n",
       "      <td>5.0</td>\n",
       "      <td>Yes, it\\'s possible to get an A but you\\'ll de...</td>\n",
       "      <td>1</td>\n",
       "    </tr>\n",
       "    <tr>\n",
       "      <th>4</th>\n",
       "      <td>Leslie  Looney</td>\n",
       "      <td>5.0</td>\n",
       "      <td>Professor Looney has great knowledge in Astron...</td>\n",
       "      <td>1</td>\n",
       "    </tr>\n",
       "  </tbody>\n",
       "</table>\n",
       "</div>"
      ],
      "text/plain": [
       "   professor_name  student_star  \\\n",
       "0  Leslie  Looney           5.0   \n",
       "1  Leslie  Looney           5.0   \n",
       "2  Leslie  Looney           4.0   \n",
       "3  Leslie  Looney           5.0   \n",
       "4  Leslie  Looney           5.0   \n",
       "\n",
       "                                            comments  sentiment  \n",
       "0  This class is hard, but its a two-in-one gen-e...          1  \n",
       "1  Definitely going to choose Prof. Looney\\'s cla...          1  \n",
       "2  I overall enjoyed this class because the assig...          1  \n",
       "3  Yes, it\\'s possible to get an A but you\\'ll de...          1  \n",
       "4  Professor Looney has great knowledge in Astron...          1  "
      ]
     },
     "execution_count": 2,
     "metadata": {},
     "output_type": "execute_result"
    }
   ],
   "source": [
    "# keep only necessary columns\n",
    "reviews = reviews.loc[:, [\"professor_name\", \"student_star\", \"comments\"]]\n",
    "\n",
    "reviews.comments.fillna(\"Empty\", inplace=True)\n",
    "reviews.student_star.fillna(-1, inplace=True)           # to denote it was empty without causing a runtime error\n",
    "\n",
    "reviews[\"sentiment\"] = 1            # create new 'sentiment' column and set it to all 1s (denoting positive sentiment)\n",
    "\n",
    "# FIXME: need to find a way to remove backslashes from comments effectively\n",
    "reviews.comments.replace(\"\\\\\", \"\", inplace=True)        # this will search for comments whose value is \"\\\\\", but I want to search within a comment for a \"\\\\\" soooo...\n",
    "\n",
    "reviews.head()\n",
    "\n",
    "#empty_comments = reviews[pd.isnull(reviews.comments)]       # both frames have 0 rows, so all NaNs were successfully terminated\n",
    "#empty_stars = reviews[pd.isnull(reviews.student_star)]"
   ]
  },
  {
   "cell_type": "code",
   "execution_count": 3,
   "metadata": {},
   "outputs": [
    {
     "data": {
      "text/html": [
       "<div>\n",
       "<style scoped>\n",
       "    .dataframe tbody tr th:only-of-type {\n",
       "        vertical-align: middle;\n",
       "    }\n",
       "\n",
       "    .dataframe tbody tr th {\n",
       "        vertical-align: top;\n",
       "    }\n",
       "\n",
       "    .dataframe thead th {\n",
       "        text-align: right;\n",
       "    }\n",
       "</style>\n",
       "<table border=\"1\" class=\"dataframe\">\n",
       "  <thead>\n",
       "    <tr style=\"text-align: right;\">\n",
       "      <th></th>\n",
       "      <th>professor_name</th>\n",
       "      <th>student_star</th>\n",
       "      <th>comments</th>\n",
       "      <th>sentiment</th>\n",
       "    </tr>\n",
       "  </thead>\n",
       "  <tbody>\n",
       "    <tr>\n",
       "      <th>0</th>\n",
       "      <td>Leslie  Looney</td>\n",
       "      <td>5.0</td>\n",
       "      <td>This class is hard, but its a two-in-one gen-e...</td>\n",
       "      <td>1</td>\n",
       "    </tr>\n",
       "    <tr>\n",
       "      <th>1</th>\n",
       "      <td>Leslie  Looney</td>\n",
       "      <td>5.0</td>\n",
       "      <td>Definitely going to choose Prof. Looney\\'s cla...</td>\n",
       "      <td>1</td>\n",
       "    </tr>\n",
       "    <tr>\n",
       "      <th>2</th>\n",
       "      <td>Leslie  Looney</td>\n",
       "      <td>4.0</td>\n",
       "      <td>I overall enjoyed this class because the assig...</td>\n",
       "      <td>1</td>\n",
       "    </tr>\n",
       "    <tr>\n",
       "      <th>3</th>\n",
       "      <td>Leslie  Looney</td>\n",
       "      <td>5.0</td>\n",
       "      <td>Yes, it\\'s possible to get an A but you\\'ll de...</td>\n",
       "      <td>1</td>\n",
       "    </tr>\n",
       "    <tr>\n",
       "      <th>4</th>\n",
       "      <td>Leslie  Looney</td>\n",
       "      <td>5.0</td>\n",
       "      <td>Professor Looney has great knowledge in Astron...</td>\n",
       "      <td>1</td>\n",
       "    </tr>\n",
       "  </tbody>\n",
       "</table>\n",
       "</div>"
      ],
      "text/plain": [
       "   professor_name  student_star  \\\n",
       "0  Leslie  Looney           5.0   \n",
       "1  Leslie  Looney           5.0   \n",
       "2  Leslie  Looney           4.0   \n",
       "3  Leslie  Looney           5.0   \n",
       "4  Leslie  Looney           5.0   \n",
       "\n",
       "                                            comments  sentiment  \n",
       "0  This class is hard, but its a two-in-one gen-e...          1  \n",
       "1  Definitely going to choose Prof. Looney\\'s cla...          1  \n",
       "2  I overall enjoyed this class because the assig...          1  \n",
       "3  Yes, it\\'s possible to get an A but you\\'ll de...          1  \n",
       "4  Professor Looney has great knowledge in Astron...          1  "
      ]
     },
     "execution_count": 3,
     "metadata": {},
     "output_type": "execute_result"
    }
   ],
   "source": [
    "# Appropriately fill sentiment column using student_star as a basis\n",
    "reviews[\"sentiment\"] = reviews[\"student_star\"].apply(lambda x: 1 if x > 2.5 else 0)\n",
    "# if student rated more than 2.5 stars, take their review as positive; otherwise, negative\n",
    "reviews.head()"
   ]
  },
  {
   "cell_type": "code",
   "execution_count": 4,
   "metadata": {},
   "outputs": [],
   "source": [
    "# Ensure that negative stopwords are kept (important for sentiment analysis)\n",
    "eng_stopwords = stopwords.words(\"english\")\n",
    "# matter of fact, may end up being better to not remove stopwords at all to ensure no loss of depth in model, but this'll do for now\n",
    "eng_stopwords.remove(\"no\")\n",
    "eng_stopwords.remove(\"not\")\n",
    "eng_stopwords.remove(\"nor\")\n",
    "eng_stopwords.remove(\"couldn't\")\n",
    "eng_stopwords.remove(\"doesn't\")\n",
    "eng_stopwords.remove(\"haven't\")\n",
    "eng_stopwords.remove(\"hadn't\")\n",
    "eng_stopwords.remove(\"weren't\")\n",
    "eng_stopwords.remove(\"won't\")\n",
    "eng_stopwords.remove(\"wouldn't\")"
   ]
  },
  {
   "cell_type": "code",
   "execution_count": 5,
   "metadata": {},
   "outputs": [],
   "source": [
    "# Basic preprocessing\n",
    "corpus = []\n",
    "\n",
    "\"\"\"\n",
    "for i in range(0, reviews.shape[0]):\n",
    "    comm = reviews.iloc[i].comments         # isolate student comment from row\n",
    "    sentences = nltk.sent_tokenize(comm)    # break into sentences\n",
    "    sentences = [nltk.word_tokenize(sentence) for sentence in sentences]        # break into words\n",
    "    for j in range(0, len(sentences)):\n",
    "        sentences[j] = [lemm.lemmatize(word) for word in sentences[j] if word not in eng_stopwords]         # lemmatize each non-stopword\n",
    "    corpus.append(sentences)\n",
    "\"\"\"\n",
    "\n",
    "for i in range(len(reviews.index)):\n",
    "    review = re.sub('[^a-zA-Z]', ' ', reviews[\"comments\"][i])       # keep only alphabet characters\n",
    "    review = review.lower()         # make lowercase\n",
    "    review = review.split()         # split into words\n",
    "    review = [lemm.lemmatize(word) for word in review if word not in eng_stopwords]         # lemmatize and remove stopwords\n",
    "    review = \" \".join(review)       # combine back\n",
    "    corpus.append(review)           # add to list of sentence"
   ]
  },
  {
   "cell_type": "code",
   "execution_count": 6,
   "metadata": {},
   "outputs": [],
   "source": [
    "# Create Bag of Words model\n",
    "from sklearn.feature_extraction.text import CountVectorizer\n",
    "cv = CountVectorizer(max_features=2500)\n",
    "X = cv.fit_transform(corpus).toarray()\n",
    "y = pd.get_dummies(reviews)     # isolate sentiments\n",
    "y = y.loc[:, \"sentiment\"]"
   ]
  },
  {
   "cell_type": "code",
   "execution_count": 7,
   "metadata": {},
   "outputs": [],
   "source": [
    "# Train-Test split\n",
    "from sklearn.model_selection import train_test_split\n",
    "X_train, X_test, y_train, y_test = train_test_split(X, y, test_size=0.2, random_state=0)"
   ]
  },
  {
   "cell_type": "code",
   "execution_count": 8,
   "metadata": {},
   "outputs": [],
   "source": [
    "# Train model using Naive Bayes Classifier\n",
    "from sklearn.naive_bayes import MultinomialNB\n",
    "model = MultinomialNB().fit(X_train, y_train)\n",
    "y_pred = model.predict(X_test)"
   ]
  },
  {
   "cell_type": "code",
   "execution_count": 9,
   "metadata": {},
   "outputs": [
    {
     "name": "stdout",
     "output_type": "stream",
     "text": [
      "Accuracy Score: 0.8295\n",
      "[[ 853  267]\n",
      " [ 415 2465]]\n"
     ]
    }
   ],
   "source": [
    "# Test accuracy of model\n",
    "from sklearn.metrics import confusion_matrix, accuracy_score\n",
    "\n",
    "conf_m = confusion_matrix(y_test, y_pred)\n",
    "\n",
    "acc_score = accuracy_score(y_test, y_pred)\n",
    "\n",
    "print(\"Accuracy Score: \" + str(acc_score))\n",
    "print(conf_m)"
   ]
  }
 ],
 "metadata": {
  "kernelspec": {
   "display_name": "Python 3.9.13 64-bit (windows store)",
   "language": "python",
   "name": "python3"
  },
  "language_info": {
   "codemirror_mode": {
    "name": "ipython",
    "version": 3
   },
   "file_extension": ".py",
   "mimetype": "text/x-python",
   "name": "python",
   "nbconvert_exporter": "python",
   "pygments_lexer": "ipython3",
   "version": "3.9.13"
  },
  "orig_nbformat": 4,
  "vscode": {
   "interpreter": {
    "hash": "ed8ce2715666cca47edfe3dc40f16f58fc193b5a7b06958e2ae06c97afdf9990"
   }
  }
 },
 "nbformat": 4,
 "nbformat_minor": 2
}
